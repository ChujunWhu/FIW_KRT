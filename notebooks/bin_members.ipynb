{
 "cells": [
  {
   "cell_type": "code",
   "execution_count": 13,
   "metadata": {
    "collapsed": true
   },
   "outputs": [],
   "source": [
    "import matplotlib.pyplot as plt\n",
    "import seaborn as sns\n",
    "import common.io as io\n",
    "import glob\n",
    "import numpy as np\n",
    "import pandas as pd\n",
    "%matplotlib inline\n",
    "\n",
    "\n",
    "sns.set(color_codes=True)\n",
    "plt.style.use('default')"
   ]
  },
  {
   "cell_type": "code",
   "execution_count": 14,
   "metadata": {
    "collapsed": true
   },
   "outputs": [],
   "source": [
    "dir_fids = \"/home/jrobby/Dropbox/Families_In_The_Wild/Database/journal_data/FIDs/\"\n",
    "dmids = glob.glob(dir_fids+ \"F????/MID*/\")\n",
    "subject= [(io.file_base(io.filepath(d[0:-1])), io.file_base(d[0:-1])) for d in dmids]\n",
    "subject.sort()\n",
    "fids = np.unique(np.array(subject)[:,0])\n"
   ]
  },
  {
   "cell_type": "code",
   "execution_count": 16,
   "metadata": {
    "collapsed": true
   },
   "outputs": [
    {
     "name": "stdout",
     "output_type": "stream",
     "text": [
      "FIW contains 5341 unique members from 1000 different families. F0601 has most members (total of 42).\n"
     ]
    }
   ],
   "source": [
    "# print(subject)\n",
    "# dict(subject)\n",
    "\n",
    "df_subject = pd.DataFrame(subject)\n",
    "n, bins, patches = plt.hist([int(f[1:]) for f in df_subject[0]], len(fids), facecolor='green')\n",
    "plt.axis([1, 1000, 0, 30])\n",
    "plt.grid(True)\n",
    "plt.xlabel('FID')\n",
    "plt.ylabel('No. Images')\n",
    "plt.title('Distributions of PIDs per FID')"
   ]
  },
  {
   "cell_type": "code",
   "execution_count": 20,
   "metadata": {
    "collapsed": true
   },
   "outputs": [
    {
     "name": "stdout",
     "output_type": "stream",
     "text": [
      "FIW contains 5341 unique members from 1000 different families. F0601 has most members (total of 42).\n"
     ]
    }
   ],
   "source": [
    "stats = df_subject.describe()\n",
    "stats_dict = {'count': stats[0][0], 'unique': stats[0][1], 'top': stats[0][2], 'freq': stats[0][3]}\n",
    "\n",
    "print(\"FIW contains {} unique members from {} different families. {} has most members (total of {}).\".format(stats_dict['count'], stats_dict['unique'], stats_dict['top'], stats_dict['freq']))"
   ]
  },
  {
   "cell_type": "code",
   "execution_count": null,
   "metadata": {
    "collapsed": true
   },
   "outputs": [
    {
     "name": "stdout",
     "output_type": "stream",
     "text": [
      "FIW contains 5341 unique members from 1000 different families. F0601 has most members (total of 42).\n"
     ]
    }
   ],
   "source": [
    ""
   ]
  },
  {
   "cell_type": "code",
   "execution_count": 3,
   "metadata": {},
   "outputs": [],
   "source": []
  },
  {
   "cell_type": "code",
   "execution_count": null,
   "metadata": {},
   "outputs": [],
   "source": []
  }
 ],
 "metadata": {
  "kernelspec": {
   "display_name": "Python 2",
   "language": "python",
   "name": "python2"
  },
  "language_info": {
   "codemirror_mode": {
    "name": "ipython",
    "version": 2
   },
   "file_extension": ".py",
   "mimetype": "text/x-python",
   "name": "python",
   "nbconvert_exporter": "python",
   "pygments_lexer": "ipython2",
   "version": "2.7.6"
  }
 },
 "nbformat": 4,
 "nbformat_minor": 0
}
